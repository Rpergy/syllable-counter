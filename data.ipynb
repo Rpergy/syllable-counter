{
 "cells": [
  {
   "cell_type": "code",
   "execution_count": 1,
   "metadata": {},
   "outputs": [],
   "source": [
    "import csv\n",
    "import torch\n",
    "import torch.nn as nn\n",
    "import random"
   ]
  },
  {
   "cell_type": "code",
   "execution_count": 2,
   "metadata": {},
   "outputs": [],
   "source": [
    "words = []\n",
    "syllables = []"
   ]
  },
  {
   "cell_type": "code",
   "execution_count": 3,
   "metadata": {},
   "outputs": [],
   "source": [
    "with open(\"phoneticDictionary.csv\", \"r\") as file:\n",
    "    csvFile = csv.reader(file)\n",
    "\n",
    "    for lines in csvFile:\n",
    "        words.append(lines[1])\n",
    "        syllables.append(lines[3])"
   ]
  },
  {
   "cell_type": "code",
   "execution_count": 4,
   "metadata": {},
   "outputs": [],
   "source": [
    "vocabulary = {\n",
    "    'a': 0.0,\n",
    "    'b': 1.0,\n",
    "    'c': 2.0,\n",
    "    'd': 3.0,\n",
    "    'e': 4.0,\n",
    "    'f': 5.0,\n",
    "    'g': 6.0,\n",
    "    'h': 7.0,\n",
    "    'i': 8.0,\n",
    "    'j': 9.0,\n",
    "    'k': 10.0,\n",
    "    'l': 11.0,\n",
    "    'm': 12.0,\n",
    "    'n': 13.0,\n",
    "    'o': 14.0,\n",
    "    'p': 15.0,\n",
    "    'q': 16.0,\n",
    "    'r': 17.0,\n",
    "    's': 18.0,\n",
    "    't': 19.0,\n",
    "    'u': 20.0,\n",
    "    'v': 21.0,\n",
    "    'w': 22.0,\n",
    "    'x': 23.0,\n",
    "    'y': 24.0,\n",
    "    'z': 25.0,\n",
    "    '.': 26.0\n",
    "}"
   ]
  },
  {
   "cell_type": "code",
   "execution_count": 5,
   "metadata": {},
   "outputs": [
    {
     "data": {
      "text/plain": [
       "'d'"
      ]
     },
     "execution_count": 5,
     "metadata": {},
     "output_type": "execute_result"
    }
   ],
   "source": [
    "value = [i for i in vocabulary if vocabulary[i]==3.0]\n",
    "value[0]"
   ]
  },
  {
   "cell_type": "code",
   "execution_count": 6,
   "metadata": {},
   "outputs": [],
   "source": [
    "def encode(input):\n",
    "    output = []\n",
    "    for letter in input:\n",
    "        output.append(vocabulary[letter])\n",
    "        \n",
    "    return output\n",
    "\n",
    "def decode(input):\n",
    "    output = \"\"\n",
    "    for val in input:\n",
    "        output += [i for i in vocabulary if vocabulary[i]==val][0]\n",
    "    \n",
    "    return output"
   ]
  },
  {
   "cell_type": "code",
   "execution_count": 7,
   "metadata": {},
   "outputs": [
    {
     "name": "stdout",
     "output_type": "stream",
     "text": [
      "[19.0, 4.0, 18.0, 19.0]\n",
      "test\n"
     ]
    }
   ],
   "source": [
    "word = \"test\"\n",
    "print(encode(word))\n",
    "\n",
    "key = [19, 4, 18, 19]\n",
    "print(decode(key))"
   ]
  },
  {
   "cell_type": "code",
   "execution_count": 8,
   "metadata": {},
   "outputs": [],
   "source": [
    "features = []\n",
    "labels = []"
   ]
  },
  {
   "cell_type": "code",
   "execution_count": 9,
   "metadata": {},
   "outputs": [],
   "source": [
    "for word in words:\n",
    "    features.append(encode(word))"
   ]
  },
  {
   "cell_type": "code",
   "execution_count": 10,
   "metadata": {},
   "outputs": [],
   "source": [
    "longest_len = 0\n",
    "longest_index = 0\n",
    "\n",
    "for word in range(len(features)):\n",
    "    if len(features[word]) > longest_len:\n",
    "        longest_len = len(features[word])\n",
    "        longest_index = word"
   ]
  },
  {
   "cell_type": "code",
   "execution_count": 11,
   "metadata": {},
   "outputs": [],
   "source": [
    "for i in range(len(features)):\n",
    "    difference = longest_len - len(features[i])\n",
    "    features[i].extend([26.0 for i in range(difference)])"
   ]
  },
  {
   "cell_type": "code",
   "execution_count": 50,
   "metadata": {},
   "outputs": [],
   "source": [
    "labels = [float(i) for i in syllables]"
   ]
  },
  {
   "cell_type": "code",
   "execution_count": 14,
   "metadata": {},
   "outputs": [
    {
     "data": {
      "text/plain": [
       "11.0"
      ]
     },
     "execution_count": 14,
     "metadata": {},
     "output_type": "execute_result"
    }
   ],
   "source": [
    "most_syllables = 0\n",
    "\n",
    "for label in labels:\n",
    "    if label > most_syllables:\n",
    "        most_syllables = label\n",
    "\n",
    "most_syllables"
   ]
  },
  {
   "cell_type": "code",
   "execution_count": 30,
   "metadata": {},
   "outputs": [
    {
     "data": {
      "text/plain": [
       "tensor([[0, 1, 0, 0, 0, 0, 0, 0, 0, 0, 0]])"
      ]
     },
     "execution_count": 30,
     "metadata": {},
     "output_type": "execute_result"
    }
   ],
   "source": [
    "nn.functional.one_hot(torch.tensor([1], dtype=torch.int64), 11)"
   ]
  },
  {
   "cell_type": "code",
   "execution_count": 61,
   "metadata": {},
   "outputs": [],
   "source": [
    "labels = [nn.functional.one_hot(torch.tensor([int(label)], dtype=torch.int64), 12).view(12).tolist() for label in syllables]"
   ]
  },
  {
   "cell_type": "code",
   "execution_count": 63,
   "metadata": {},
   "outputs": [
    {
     "name": "stdout",
     "output_type": "stream",
     "text": [
      "abbot.......................\n",
      "[0, 0, 1, 0, 0, 0, 0, 0, 0, 0, 0, 0]\n"
     ]
    }
   ],
   "source": [
    "print(decode(features[100]))\n",
    "print(labels[100])"
   ]
  },
  {
   "cell_type": "code",
   "execution_count": 64,
   "metadata": {},
   "outputs": [
    {
     "data": {
      "text/plain": [
       "[0, 1, 0, 0, 0, 0, 0, 0, 0, 0, 0, 0]"
      ]
     },
     "execution_count": 64,
     "metadata": {},
     "output_type": "execute_result"
    }
   ],
   "source": [
    "labels[0]"
   ]
  },
  {
   "cell_type": "code",
   "execution_count": 71,
   "metadata": {},
   "outputs": [
    {
     "data": {
      "text/plain": [
       "tensor([107145,  74376,  58448,  91824,  40679,  10088,  38046,  85138,    475,\n",
       "          9681,  31446,  17712,  90344,  73976,  44523, 129574,   6890,  40882,\n",
       "        117837,   9926,  31062,  91254,  10430, 108780,  88747,  23964,    595,\n",
       "         52789,   6765,   9519,  93560,  99134, 126717, 128120,  98228, 130572,\n",
       "        120627,  97036, 115768,  91999,  65027,   5900,  82008, 119997, 112926,\n",
       "         75967,  28584,  69878,  12687,  82605, 109505,  68669, 119267, 113897,\n",
       "         80461,   6726,  20311,  77747,  48930,  40834, 133798, 126120,   8997,\n",
       "         98896,  25930,  83055,  71462,   6155,   4911, 112754,  62733,  31530,\n",
       "         45890,  69242,  73461,  73999,  48469,  49527,  27473,  30532, 130014,\n",
       "         25415, 119546,  36851,  44259,  58763, 111231, 119237,  75509, 104803,\n",
       "           527,  95817,  81614, 117276,  65050,  47519,  38997,  54138, 105934,\n",
       "         30137])"
      ]
     },
     "execution_count": 71,
     "metadata": {},
     "output_type": "execute_result"
    }
   ],
   "source": [
    "torch.randint(0, len(features), (1, 100)).view(100)"
   ]
  }
 ],
 "metadata": {
  "kernelspec": {
   "display_name": "Python 3",
   "language": "python",
   "name": "python3"
  },
  "language_info": {
   "codemirror_mode": {
    "name": "ipython",
    "version": 3
   },
   "file_extension": ".py",
   "mimetype": "text/x-python",
   "name": "python",
   "nbconvert_exporter": "python",
   "pygments_lexer": "ipython3",
   "version": "3.10.10"
  },
  "orig_nbformat": 4
 },
 "nbformat": 4,
 "nbformat_minor": 2
}
