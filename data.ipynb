{
 "cells": [
  {
   "cell_type": "code",
   "execution_count": 2,
   "metadata": {},
   "outputs": [],
   "source": [
    "import csv\n",
    "import torch\n",
    "import torch.nn as nn\n",
    "import random"
   ]
  },
  {
   "cell_type": "code",
   "execution_count": 3,
   "metadata": {},
   "outputs": [],
   "source": [
    "words = []\n",
    "syllables = []"
   ]
  },
  {
   "cell_type": "code",
   "execution_count": 4,
   "metadata": {},
   "outputs": [],
   "source": [
    "with open(\"phoneticDictionary.csv\", \"r\") as file:\n",
    "    csvFile = csv.reader(file)\n",
    "\n",
    "    for lines in csvFile:\n",
    "        words.append(lines[1])\n",
    "        syllables.append(lines[3])"
   ]
  },
  {
   "cell_type": "code",
   "execution_count": 5,
   "metadata": {},
   "outputs": [],
   "source": [
    "vocabulary = {\n",
    "    'a': 0.0,\n",
    "    'b': 1.0,\n",
    "    'c': 2.0,\n",
    "    'd': 3.0,\n",
    "    'e': 4.0,\n",
    "    'f': 5.0,\n",
    "    'g': 6.0,\n",
    "    'h': 7.0,\n",
    "    'i': 8.0,\n",
    "    'j': 9.0,\n",
    "    'k': 10.0,\n",
    "    'l': 11.0,\n",
    "    'm': 12.0,\n",
    "    'n': 13.0,\n",
    "    'o': 14.0,\n",
    "    'p': 15.0,\n",
    "    'q': 16.0,\n",
    "    'r': 17.0,\n",
    "    's': 18.0,\n",
    "    't': 19.0,\n",
    "    'u': 20.0,\n",
    "    'v': 21.0,\n",
    "    'w': 22.0,\n",
    "    'x': 23.0,\n",
    "    'y': 24.0,\n",
    "    'z': 25.0,\n",
    "    '.': 26.0\n",
    "}"
   ]
  },
  {
   "cell_type": "code",
   "execution_count": 6,
   "metadata": {},
   "outputs": [
    {
     "data": {
      "text/plain": [
       "'d'"
      ]
     },
     "execution_count": 6,
     "metadata": {},
     "output_type": "execute_result"
    }
   ],
   "source": [
    "value = [i for i in vocabulary if vocabulary[i]==3.0]\n",
    "value[0]"
   ]
  },
  {
   "cell_type": "code",
   "execution_count": 7,
   "metadata": {},
   "outputs": [],
   "source": [
    "def encode(input):\n",
    "    output = []\n",
    "    for letter in input:\n",
    "        output.append(vocabulary[letter])\n",
    "        \n",
    "    return output\n",
    "\n",
    "def decode(input):\n",
    "    output = \"\"\n",
    "    for val in input:\n",
    "        output += [i for i in vocabulary if vocabulary[i]==val][0]\n",
    "    \n",
    "    return output"
   ]
  },
  {
   "cell_type": "code",
   "execution_count": 8,
   "metadata": {},
   "outputs": [
    {
     "name": "stdout",
     "output_type": "stream",
     "text": [
      "[19.0, 4.0, 18.0, 19.0]\n",
      "test\n"
     ]
    }
   ],
   "source": [
    "word = \"test\"\n",
    "print(encode(word))\n",
    "\n",
    "key = [19, 4, 18, 19]\n",
    "print(decode(key))"
   ]
  },
  {
   "cell_type": "code",
   "execution_count": 9,
   "metadata": {},
   "outputs": [],
   "source": [
    "features = []\n",
    "labels = []"
   ]
  },
  {
   "cell_type": "code",
   "execution_count": 10,
   "metadata": {},
   "outputs": [],
   "source": [
    "for word in words:\n",
    "    features.append(encode(word))"
   ]
  },
  {
   "cell_type": "code",
   "execution_count": 11,
   "metadata": {},
   "outputs": [],
   "source": [
    "longest_len = 0\n",
    "longest_index = 0\n",
    "\n",
    "for word in range(len(features)):\n",
    "    if len(features[word]) > longest_len:\n",
    "        longest_len = len(features[word])\n",
    "        longest_index = word"
   ]
  },
  {
   "cell_type": "code",
   "execution_count": 12,
   "metadata": {},
   "outputs": [],
   "source": [
    "for i in range(len(features)):\n",
    "    difference = longest_len - len(features[i])\n",
    "    features[i].extend([26.0 for i in range(difference)])"
   ]
  },
  {
   "cell_type": "code",
   "execution_count": 13,
   "metadata": {},
   "outputs": [],
   "source": [
    "labels = [float(i) for i in syllables]"
   ]
  },
  {
   "cell_type": "code",
   "execution_count": 14,
   "metadata": {},
   "outputs": [],
   "source": [
    "class Model(nn.Module):\n",
    "    def __init__(self):\n",
    "        super().__init__()\n",
    "        self.net = nn.Sequential(\n",
    "            nn.Linear(28, 50),\n",
    "            nn.ReLU(),\n",
    "            nn.Linear(50, 50),\n",
    "            nn.ReLU(),\n",
    "            nn.Linear(50, 40),\n",
    "            nn.ReLU(),\n",
    "            nn.Linear(40, 30),\n",
    "            nn.ReLU(),\n",
    "            nn.Linear(30, 15),\n",
    "            nn.ReLU(),\n",
    "            nn.Linear(15, 1)\n",
    "        )\n",
    "    \n",
    "    def forward(self, x):\n",
    "        return self.net(x)"
   ]
  },
  {
   "cell_type": "code",
   "execution_count": 15,
   "metadata": {},
   "outputs": [
    {
     "data": {
      "text/plain": [
       "1.0"
      ]
     },
     "execution_count": 15,
     "metadata": {},
     "output_type": "execute_result"
    }
   ],
   "source": [
    "labels[0]"
   ]
  },
  {
   "cell_type": "code",
   "execution_count": 22,
   "metadata": {},
   "outputs": [
    {
     "name": "stdout",
     "output_type": "stream",
     "text": [
      "torch.Size([1])\n",
      "3.4110052585601807\n",
      "torch.Size([1])\n",
      "torch.Size([1])\n",
      "torch.Size([1])\n",
      "torch.Size([1])\n",
      "torch.Size([1])\n",
      "torch.Size([1])\n",
      "torch.Size([1])\n",
      "torch.Size([1])\n",
      "torch.Size([1])\n",
      "torch.Size([1])\n",
      "0.08327150344848633\n",
      "torch.Size([1])\n",
      "torch.Size([1])\n",
      "torch.Size([1])\n",
      "torch.Size([1])\n",
      "torch.Size([1])\n",
      "torch.Size([1])\n",
      "torch.Size([1])\n",
      "torch.Size([1])\n",
      "torch.Size([1])\n",
      "torch.Size([1])\n",
      "1.1611888408660889\n",
      "torch.Size([1])\n",
      "torch.Size([1])\n",
      "torch.Size([1])\n",
      "torch.Size([1])\n",
      "torch.Size([1])\n",
      "torch.Size([1])\n",
      "torch.Size([1])\n",
      "torch.Size([1])\n",
      "torch.Size([1])\n",
      "torch.Size([1])\n",
      "0.26528024673461914\n",
      "torch.Size([1])\n",
      "torch.Size([1])\n",
      "torch.Size([1])\n",
      "torch.Size([1])\n",
      "torch.Size([1])\n",
      "torch.Size([1])\n",
      "torch.Size([1])\n",
      "torch.Size([1])\n",
      "torch.Size([1])\n",
      "torch.Size([1])\n",
      "0.03526115417480469\n",
      "torch.Size([1])\n",
      "torch.Size([1])\n",
      "torch.Size([1])\n",
      "torch.Size([1])\n",
      "torch.Size([1])\n",
      "torch.Size([1])\n",
      "torch.Size([1])\n",
      "torch.Size([1])\n",
      "torch.Size([1])\n"
     ]
    }
   ],
   "source": [
    "m = Model()\n",
    "\n",
    "optimizer = torch.optim.Adam(m.parameters(), 0.001)\n",
    "\n",
    "for epoch in range(50):\n",
    "    x = torch.tensor(features[random.randint(0, len(features))], dtype=torch.float32)\n",
    "    y = torch.tensor(labels[random.randint(0, len(labels))], dtype=torch.int64).view(1)\n",
    "\n",
    "    optimizer.zero_grad()\n",
    "    output = m(x)\n",
    "\n",
    "    mae_loss = nn.L1Loss()\n",
    "    loss = mae_loss(output, y)\n",
    "    loss.backward()\n",
    "    optimizer.step()\n",
    "\n",
    "    if epoch % 10 == 0:\n",
    "        print(loss.item())"
   ]
  },
  {
   "cell_type": "code",
   "execution_count": 17,
   "metadata": {},
   "outputs": [
    {
     "name": "stdout",
     "output_type": "stream",
     "text": [
      "3 syllables\n"
     ]
    }
   ],
   "source": [
    "word = encode(\"ample\")\n",
    "\n",
    "difference = longest_len - len(word)\n",
    "word.extend([26.0 for i in range(difference)])\n",
    "\n",
    "with torch.no_grad():\n",
    "    output = m(torch.tensor(word))\n",
    "    print(str(round(output.item())) + \" syllables\")"
   ]
  }
 ],
 "metadata": {
  "kernelspec": {
   "display_name": "Python 3",
   "language": "python",
   "name": "python3"
  },
  "language_info": {
   "codemirror_mode": {
    "name": "ipython",
    "version": 3
   },
   "file_extension": ".py",
   "mimetype": "text/x-python",
   "name": "python",
   "nbconvert_exporter": "python",
   "pygments_lexer": "ipython3",
   "version": "3.10.10"
  },
  "orig_nbformat": 4
 },
 "nbformat": 4,
 "nbformat_minor": 2
}
